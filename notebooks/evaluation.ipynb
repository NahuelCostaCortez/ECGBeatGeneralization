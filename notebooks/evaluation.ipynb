{
 "cells": [
  {
   "cell_type": "code",
   "execution_count": 1,
   "metadata": {},
   "outputs": [
    {
     "name": "stdout",
     "output_type": "stream",
     "text": [
      "/home/nahuel/ecg/generalization/models\n"
     ]
    },
    {
     "name": "stderr",
     "output_type": "stream",
     "text": [
      "/home/nahuel/ecg/generalization/generalization/lib/python3.11/site-packages/IPython/core/magics/osm.py:417: UserWarning: This is now an optional IPython functionality, setting dhist requires you to install the `pickleshare` library.\n",
      "  self.shell.db['dhist'] = compress_dhist(dhist)[-100:]\n"
     ]
    }
   ],
   "source": [
    "%cd /home/nahuel/ecg/generalization/models\n",
    "%load_ext autoreload\n",
    "%autoreload 2"
   ]
  },
  {
   "cell_type": "code",
   "execution_count": 2,
   "metadata": {},
   "outputs": [],
   "source": [
    "import sys\n",
    "import os\n",
    "\n",
    "# Agregar la carpeta que contiene 'data.py' al sys.path\n",
    "sys.path.append(os.path.abspath(os.path.join(os.getcwd(), '../data')))"
   ]
  },
  {
   "cell_type": "code",
   "execution_count": 3,
   "metadata": {},
   "outputs": [],
   "source": [
    "from model import select_model, ECGModel\n",
    "from data import load_data, get_shot"
   ]
  },
  {
   "cell_type": "markdown",
   "metadata": {},
   "source": [
    "## S2S\n",
    "\n",
    "https://arxiv.org/pdf/1812.07421v2\n",
    "\n",
    "Comandos utilizados para lanzar experimentos (desde la terminal): \n",
    "\n",
    "Modelo entrenado con MIT\n",
    "\n",
    "```bash\n",
    "python models/train.py --experiment_name MIT-s2s --dataset MIT-BIH --model Seq2Seq --path models/saved/MIT-BIH/Seq2Seq --return_sequences\n",
    "```\n",
    "\n",
    "\n",
    "Modelo entrenado con INCART\n",
    "\n",
    "```bash\n",
    "python models/train.py --experiment_name IncartDB-s2s --dataset INCART --model Seq2Seq --path models/saved/INCART/Seq2Seq --return_sequences\n",
    "```"
   ]
  },
  {
   "cell_type": "code",
   "execution_count": 4,
   "metadata": {},
   "outputs": [
    {
     "name": "stdout",
     "output_type": "stream",
     "text": [
      "LOADING MODEL TRAINED WITH MIT-BIH...\n",
      "Error in Tzone or Pzone: attempt to get argmax of an empty sequence\n",
      "Error in Tzone or Pzone: attempt to get argmax of an empty sequence\n",
      "Error in Tzone or Pzone: attempt to get argmax of an empty sequence\n",
      "Error in Tzone or Pzone: attempt to get argmax of an empty sequence\n",
      "Error in Tzone or Pzone: attempt to get argmax of an empty sequence\n",
      "Error in Tzone or Pzone: attempt to get argmax of an empty sequence\n",
      "Error in Tzone or Pzone: attempt to get argmax of an empty sequence\n",
      "Records processed!\n",
      "Evaluating model with MIT-BIH\n",
      "Accuracy own: 0.9972\n",
      "Accuracy: 0.9972\n",
      "F1 Score: 0.9884\n",
      "              precision    recall  f1-score   support\n",
      "\n",
      "           0       1.00      1.00      1.00     18170\n",
      "           1       0.92      1.00      0.96       560\n",
      "           2       1.00      1.00      1.00      1400\n",
      "           3       1.00      1.00      1.00       110\n",
      "\n",
      "    accuracy                           1.00     20240\n",
      "   macro avg       0.98      1.00      0.99     20240\n",
      "weighted avg       1.00      1.00      1.00     20240\n",
      "\n",
      "Records processed!\n",
      "Evaluating model with INCART\n",
      "Accuracy own: 0.9910\n",
      "Accuracy: 0.9910\n",
      "F1 Score: 0.6766\n",
      "              precision    recall  f1-score   support\n",
      "\n",
      "           0       1.00      1.00      1.00     31191\n",
      "           1       0.62      0.88      0.73       410\n",
      "           2       1.00      0.97      0.98      3510\n",
      "           3       0.00      0.00      0.00        19\n",
      "\n",
      "    accuracy                           0.99     35130\n",
      "   macro avg       0.65      0.71      0.68     35130\n",
      "weighted avg       0.99      0.99      0.99     35130\n",
      "\n",
      "LOADING MODEL TRAINED WITH INCART...\n"
     ]
    },
    {
     "name": "stderr",
     "output_type": "stream",
     "text": [
      "/home/nahuel/ecg/generalization/generalization/lib/python3.11/site-packages/sklearn/metrics/_classification.py:1565: UndefinedMetricWarning: Precision is ill-defined and being set to 0.0 in labels with no predicted samples. Use `zero_division` parameter to control this behavior.\n",
      "  _warn_prf(average, modifier, f\"{metric.capitalize()} is\", len(result))\n",
      "/home/nahuel/ecg/generalization/generalization/lib/python3.11/site-packages/sklearn/metrics/_classification.py:1565: UndefinedMetricWarning: Precision is ill-defined and being set to 0.0 in labels with no predicted samples. Use `zero_division` parameter to control this behavior.\n",
      "  _warn_prf(average, modifier, f\"{metric.capitalize()} is\", len(result))\n",
      "/home/nahuel/ecg/generalization/generalization/lib/python3.11/site-packages/sklearn/metrics/_classification.py:1565: UndefinedMetricWarning: Precision is ill-defined and being set to 0.0 in labels with no predicted samples. Use `zero_division` parameter to control this behavior.\n",
      "  _warn_prf(average, modifier, f\"{metric.capitalize()} is\", len(result))\n"
     ]
    },
    {
     "name": "stdout",
     "output_type": "stream",
     "text": [
      "Error in Tzone or Pzone: attempt to get argmax of an empty sequence\n",
      "Error in Tzone or Pzone: attempt to get argmax of an empty sequence\n",
      "Error in Tzone or Pzone: attempt to get argmax of an empty sequence\n",
      "Error in Tzone or Pzone: attempt to get argmax of an empty sequence\n",
      "Error in Tzone or Pzone: attempt to get argmax of an empty sequence\n",
      "Error in Tzone or Pzone: attempt to get argmax of an empty sequence\n",
      "Error in Tzone or Pzone: attempt to get argmax of an empty sequence\n",
      "Records processed!\n",
      "Evaluating model with MIT-BIH\n",
      "Accuracy own: 0.9445\n",
      "Accuracy: 0.9445\n",
      "F1 Score: 0.7257\n",
      "              precision    recall  f1-score   support\n",
      "\n",
      "           0       0.98      0.96      0.97     17780\n",
      "           1       0.37      0.39      0.38       600\n",
      "           2       0.96      1.00      0.98      1630\n",
      "           3       0.40      1.00      0.57       230\n",
      "\n",
      "    accuracy                           0.94     20240\n",
      "   macro avg       0.68      0.84      0.73     20240\n",
      "weighted avg       0.96      0.94      0.95     20240\n",
      "\n",
      "Records processed!\n",
      "Evaluating model with INCART\n",
      "Accuracy own: 0.9982\n",
      "Accuracy: 0.9982\n",
      "F1 Score: 0.9246\n",
      "              precision    recall  f1-score   support\n",
      "\n",
      "           0       1.00      1.00      1.00     30750\n",
      "           1       1.00      1.00      1.00       340\n",
      "           2       1.00      1.00      1.00      3970\n",
      "           3       0.54      1.00      0.70        70\n",
      "\n",
      "    accuracy                           1.00     35130\n",
      "   macro avg       0.88      1.00      0.92     35130\n",
      "weighted avg       1.00      1.00      1.00     35130\n",
      "\n"
     ]
    }
   ],
   "source": [
    "model_name = \"Seq2Seq\"\n",
    "model_module = select_model(model_name, n_classes=4)\n",
    "\n",
    "for dataset_name in [\"MIT-BIH\", \"INCART\"]:\n",
    "\tprint(\"LOADING MODEL TRAINED WITH \" + dataset_name + \"...\")\n",
    "\tpath = \"/home/nahuel/ecg/generalization/models/saved/\"+dataset_name+\"/\"+model_name+\"/best_model.ckpt\"\n",
    "\tmodel = ECGModel.load_from_checkpoint(path, model=model_module)\n",
    "\n",
    "\tfor dataset_name in [\"MIT-BIH\", \"INCART\"]:\n",
    "\t\t\n",
    "\t\ttrain_dataloader, val_dataloader, test_dataloader = load_data(dataset_name, return_sequences=True)\n",
    "\t\tprint(\"Evaluating model with \" + dataset_name)\n",
    "\t\tmodel.evaluate(test_dataloader, \"cpu\")"
   ]
  },
  {
   "cell_type": "markdown",
   "metadata": {},
   "source": [
    "## CNN\n",
    "\n",
    "https://github.com/CVxTz/ECG_Heartbeat_Classification/tree/master\n",
    "\n",
    "Comandos utilizados para lanzar experimentos (desde la terminal): \n",
    "\n",
    "Modelo entrenado con MIT\n",
    "\n",
    "```bash\n",
    "python models/train.py --experiment_name MIT-cnn --dataset MIT-BIH --model CNN --path models/saved/MIT-BIH/CNN \n",
    "```\n",
    "\n",
    "**Fíjate que aquí no se utiliza --return_sequences, porque los latidos se pasan al modelo de forma individual, mientras que en el anterior modelo se pasaban en secuencias de 10 latidos**\n",
    "\n",
    "Modelo entrenado con INCART\n",
    "\n",
    "```bash\n",
    "python models/train.py --experiment_name IncartDB-cnn --dataset INCART --model CNN --path models/saved/INCART/CNN\n",
    "```"
   ]
  },
  {
   "cell_type": "code",
   "execution_count": null,
   "metadata": {},
   "outputs": [],
   "source": [
    "# TODO\n",
    "\n",
    "model_name = \"CNN\"\n",
    "model_module = select_model(model_name, n_classes=4)\n",
    "\n",
    "for dataset_name in [\"MIT-BIH\", \"INCART\"]:\n",
    "\tprint(\"LOADING MODEL TRAINED WITH \" + dataset_name + \"...\")\n",
    "\tpath = \"/home/nahuel/ecg/generalization/models/saved/\"+dataset_name+\"/\"+model_name+\"/best_model.ckpt\"\n",
    "\tmodel = ECGModel.load_from_checkpoint(path, model=model_module)\n",
    "\n",
    "\tfor dataset_name in [\"MIT-BIH\", \"INCART\"]:\n",
    "\t\t\n",
    "\t\ttrain_dataloader, val_dataloader, test_dataloader = load_data(dataset_name, return_sequences=True)\n",
    "\t\tprint(\"Evaluating model with \" + dataset_name)\n",
    "\t\tmodel.evaluate(test_dataloader, \"cpu\")"
   ]
  }
 ],
 "metadata": {
  "kernelspec": {
   "display_name": "generalization",
   "language": "python",
   "name": "python3"
  },
  "language_info": {
   "codemirror_mode": {
    "name": "ipython",
    "version": 3
   },
   "file_extension": ".py",
   "mimetype": "text/x-python",
   "name": "python",
   "nbconvert_exporter": "python",
   "pygments_lexer": "ipython3",
   "version": "3.11.11"
  }
 },
 "nbformat": 4,
 "nbformat_minor": 2
}
